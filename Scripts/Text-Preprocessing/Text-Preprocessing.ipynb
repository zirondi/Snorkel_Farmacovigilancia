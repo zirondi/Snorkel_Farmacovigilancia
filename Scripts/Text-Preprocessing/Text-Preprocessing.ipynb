{
 "metadata": {
  "language_info": {
   "codemirror_mode": {
    "name": "ipython",
    "version": 3
   },
   "file_extension": ".py",
   "mimetype": "text/x-python",
   "name": "python",
   "nbconvert_exporter": "python",
   "pygments_lexer": "ipython3",
   "version": "3.6.13"
  },
  "orig_nbformat": 2,
  "kernelspec": {
   "name": "python3613jvsc74a57bd03bf8c17c33bc5a7faae2d0edfcd11d01c7f9c60d8b494ee9336faf390fb6541d",
   "display_name": "Python 3.6.13 64-bit ('snorkel-extraction': conda)"
  },
  "metadata": {
   "interpreter": {
    "hash": "3bf8c17c33bc5a7faae2d0edfcd11d01c7f9c60d8b494ee9336faf390fb6541d"
   }
  }
 },
 "nbformat": 4,
 "nbformat_minor": 2,
 "cells": [
  {
   "source": [
    "# **THIS MUST BE RUN ON SNORKEL-EXTRACTION**\n",
    "## Pre-reqs:\n",
    "\n",
    "1. https://github.com/snorkel-team/snorkel-extraction shoud be installed and *working*\n",
    "2. https://github.com/gpgs1978/AlexandreMartins should be git-cloned on '~'\n",
    "3. https://github.com/zirondi/Snorkel_Farmacovigilancia should be git-cloned on '~'\n",
    "4. [Preprocessing.py](https://github.com/zirondi/Snorkel_Farmacovigilancia/blob/master/Scripts/Text-Preprocessing/Preprocessing.py) (link to it in the future) should be in the same folder as this notebook"
   ],
   "cell_type": "markdown",
   "metadata": {}
  },
  {
   "source": [
    "## Paths, magic functions and needed vars and dicts"
   ],
   "cell_type": "markdown",
   "metadata": {}
  },
  {
   "cell_type": "code",
   "execution_count": null,
   "metadata": {},
   "outputs": [],
   "source": [
    "%load_ext autoreload\n",
    "%autoreload 2\n",
    "%matplotlib inline\n",
    "\n",
    "import os\n",
    "separator = os.path.sep\n",
    "inPath = os.path.expanduser('~') + separator + 'AlexandreMartins'\n",
    "outPath = os.path.abspath('').split('Scripts' + separator + 'Text-Preprocessing')[0] + 'Datasets'\n",
    "\n",
    "import Preprocessing as prep\n",
    "\n",
    "util = prep.Util(inPath, outPath + separator + 'Preprocessed' + separator + 'Source')\n",
    "\n",
    "drugs = util.drugs_to_list()\n",
    "events = util.events_to_list()\n",
    "\n",
    "#Calculating the number of lines in the corpus\n",
    "corpusPath = os.path.expanduser('~') + f'{separator}Processed{separator}Tweets Anotados.tsv'\n",
    "\n",
    "with open(corpusPath) as tsv:\n",
    "    s = tsv.readlines()\n",
    "    n_docs = len(s)\n",
    "    s = None"
   ]
  },
  {
   "source": [
    "## PSQL Connection"
   ],
   "cell_type": "markdown",
   "metadata": {}
  },
  {
   "cell_type": "code",
   "execution_count": null,
   "metadata": {},
   "outputs": [],
   "source": [
    "\n",
    "#Symbolic ling for linux psql connection (No ideia if it is needed for windows)\n",
    "#Old snorkel-thingy\n",
    "if separator == '/':\n",
    "    os.system(\"ln -s /var/run/postgresql/.s.PGSQL.5432 /tmp/.s.PGSQL.5432\")\n",
    "\n",
    "#Adding the DB to the PATH\n",
    "os.environ['SNORKELDB'] = 'postgres:///lzirondi'\n",
    "\n",
    "#SnorkelSession MUST ALWAYS BE after setting the os.environ, it will default to SQLite if the var is not set.\n",
    "from snorkel import SnorkelSession\n",
    "session = SnorkelSession()"
   ]
  },
  {
   "source": [
    "## Sentence Parser"
   ],
   "cell_type": "markdown",
   "metadata": {}
  },
  {
   "cell_type": "code",
   "execution_count": null,
   "metadata": {},
   "outputs": [],
   "source": [
    "from snorkel.parser import TSVDocPreprocessor\n",
    "\n",
    "doc_preprocessor = TSVDocPreprocessor(corpusPath, max_docs=n_docs)\n",
    "\n",
    "\n",
    "from snorkel.parser.spacy_parser import Spacy\n",
    "from snorkel.parser import CorpusParser\n",
    "\n",
    "corpus_parser = CorpusParser(parser=Spacy(lang='pt'))\n",
    "\n",
    "\n",
    "%time corpus_parser.apply(doc_preprocessor, count=n_docs, parallelism=16)\n",
    "\n",
    "from snorkel.models import Document, Sentence\n",
    "\n",
    "print(\"Documents:\", session.query(Document).count())\n",
    "print(\"Sentences:\", session.query(Sentence).count())\n",
    "print('Done')"
   ]
  },
  {
   "source": [
    "## Relation Class"
   ],
   "cell_type": "markdown",
   "metadata": {}
  },
  {
   "cell_type": "code",
   "execution_count": null,
   "metadata": {},
   "outputs": [],
   "source": [
    "from snorkel.models import candidate_subclass\n",
    "\n",
    "relation = candidate_subclass('Relation', ['Drug', 'Event'])"
   ]
  },
  {
   "source": [
    "## Candidate Extractor and sets"
   ],
   "cell_type": "markdown",
   "metadata": {}
  },
  {
   "cell_type": "code",
   "execution_count": null,
   "metadata": {},
   "outputs": [],
   "source": [
    "from snorkel.candidates import Ngrams, CandidateExtractor\n",
    "from snorkel.matchers import DictionaryMatch\n",
    "\n",
    "ngrams = Ngrams(n_max=7)\n",
    "drug_matcher = DictionaryMatch(d=drugs, longest_match_only=True, ignore_case=True)\n",
    "event_matcher = DictionaryMatch(d=events, longest_match_only=True, ignore_case=True)\n",
    "cand_extractor = CandidateExtractor(relation, [ngrams, ngrams], [drug_matcher, events_matcher], symmetric_relations=True)\n",
    "\n",
    "from snorkel.models import Document\n",
    "\n",
    "docs = session.query(Document).order_by(Document.name).all()\n",
    "\n",
    "train_sents = set()\n",
    "dev_sents   = set()\n",
    "test_sents  = set()\n",
    "\n",
    "for i, doc in enumerate(docs):\n",
    "    for s in doc.sentences:\n",
    "        if i % 10 == 8:\n",
    "            dev_sents.add(s)\n",
    "        elif i % 10 == 9:\n",
    "            test_sents.add(s)\n",
    "        else:\n",
    "            train_sents.add(s)"
   ]
  },
  {
   "source": [
    "## Applying the candidate extractor"
   ],
   "cell_type": "markdown",
   "metadata": {}
  },
  {
   "cell_type": "code",
   "execution_count": null,
   "metadata": {},
   "outputs": [],
   "source": [
    "%time\n",
    "for i, sents in enumerate([train_sents, dev_sents, test_sents]):\n",
    "    print(i)\n",
    "    cand_extractor.apply(sents, split=i, parallelism = 16)\n",
    "    print(\"Number of candidates:\", session.query(relation).filter(relation.split == i).count())"
   ]
  },
  {
   "source": [
    "## Helper Functions"
   ],
   "cell_type": "markdown",
   "metadata": {}
  },
  {
   "cell_type": "code",
   "execution_count": null,
   "metadata": {},
   "outputs": [],
   "source": [
    "from snorkel.lf_helpers import is_inverted\n",
    "\n",
    "def get_text(cand):\n",
    "    return cand.get_parent()._asdict().get('text')\n",
    "\n",
    "def get_spans_all(cand):\n",
    "    return [ \n",
    "                [\n",
    "                    cand.get_contexts()[0].get_span(), \n",
    "                    str(cand.get_contexts()[0].char_start), \n",
    "                    str(cand.get_contexts()[0].char_end), \n",
    "                    cand.get_contexts()[0].__str__().split(' ')[3][9:-1].replace(']', '').replace(',', '')\n",
    "                ],\n",
    "                [\n",
    "                    cand.get_contexts()[1].get_span(), \n",
    "                    str(cand.get_contexts()[1].char_start), \n",
    "                    str(cand.get_contexts()[1].char_end), \n",
    "                    cand.get_contexts()[1].__str__().split(' ')[3][9:-1].replace(']', '').replace(',', '')\n",
    "                ]\n",
    "            ]"
   ]
  },
  {
   "source": [
    "## TSVs for Snorkel 9"
   ],
   "cell_type": "markdown",
   "metadata": {}
  },
  {
   "cell_type": "code",
   "execution_count": null,
   "metadata": {},
   "outputs": [],
   "source": [
    "from tqdm import tqdm\n",
    "\n",
    "names = [\n",
    "    f'{outPath}{separator}Preprocessed{separator}train_sets.tsv', \n",
    "    f'{outPath}{separator}Preprocessed{separator}dev_sets.tsv', \n",
    "    f'{outPath}{separator}Preprocessed{separator}test_sets.tsv'\n",
    "    ]\n",
    "\n",
    "COLUMNS = \"Candidate\\tDrug\\tDrug_Char_Start\\tDrug_Char_end\\tDrug_Word_Index\\tEvent\\tEvent_Char_Start\\tEvent_Char_end\\tEvent_Word_Index\\tIs_inverted\\tLABEL\\n\"\n",
    "LABEL = '-1'\n",
    "\n",
    "for i in range(3):\n",
    "    with open(names[i], 'w') as f:\n",
    "        print('\\n', names[i])\n",
    "        f.write(COLUMNS)\n",
    "        for c in tqdm(session.query(relation).filter(relation.split == i).all()):\n",
    "            \n",
    "            candidate = get_text(c).replace('\\n', '')\n",
    "            drug, event = get_spans_all(c)\n",
    "            inverted = '1' if is_inverted(c) else '0'\n",
    "\n",
    "            f.write(\n",
    "                candidate + '\\t' +  \n",
    "                drug[0] + '\\t' + \n",
    "                drug[1] + '\\t' + \n",
    "                drug[2] + '\\t' + \n",
    "                drug[3] + '\\t' +  \n",
    "                event[0] + '\\t' + \n",
    "                event[1] + '\\t' + \n",
    "                event[2] + '\\t' + \n",
    "                event[3] + '\\t' +\n",
    "                inverted + '\\t' +\n",
    "                LABEL + '\\n'\n",
    "            )\n",
    "        print('Done ', names[i])\n",
    "            "
   ]
  }
 ]
}