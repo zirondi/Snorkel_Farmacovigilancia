{
 "cells": [
  {
   "cell_type": "markdown",
   "metadata": {},
   "source": [
    "## Reexecução"
   ]
  },
  {
   "cell_type": "code",
   "execution_count": 1,
   "metadata": {},
   "outputs": [],
   "source": [
    "%load_ext autoreload\n",
    "%autoreload 2\n",
    "%matplotlib inline\n",
    "\n",
    "import os\n",
    "os.environ['SNORKELDB'] = 'postgres:///lzirondi'\n",
    "from snorkel import SnorkelSession\n",
    "session = SnorkelSession()\n",
    "\n",
    "from snorkel.models import candidate_subclass\n",
    "relation = candidate_subclass('Causa', ['Substância', 'Evento_Adverso'])"
   ]
  },
  {
   "cell_type": "markdown",
   "metadata": {},
   "source": [
    "## File Paths & Magic Functions"
   ]
  },
  {
   "cell_type": "code",
   "execution_count": 1,
   "metadata": {},
   "outputs": [],
   "source": [
    "%load_ext autoreload\n",
    "%autoreload 2\n",
    "%matplotlib inline\n",
    "\n",
    "inPath = '/home/lzirondi/AlexandreMartins'\n",
    "outPath = '/home/lzirondi'\n",
    "corpusPath = '/home/lzirondi/Snorkel_Farmacovigilancia/Scripts/old/Datasets/Processed/Tweets Anotados.tsv'\n",
    "LIWCpath = '/home/lzirondi/Github/snorkel/Scripts/'\n",
    "\n",
    "\n",
    "\n",
    "#Calculando o número de linhas no corpus\n",
    "with open(corpusPath) as tsv:\n",
    "    s = tsv.readlines()\n",
    "    n_docs = len(s)\n",
    "    s = None"
   ]
  },
  {
   "cell_type": "markdown",
   "metadata": {},
   "source": [
    "## Nova execução"
   ]
  },
  {
   "cell_type": "code",
   "execution_count": 2,
   "metadata": {},
   "outputs": [],
   "source": [
    "#Fazendo o link simbólico para o acesso ao banco de dados e definindo o banco como o PSQL\n",
    "import os\n",
    "os.system(\"ln -s /var/run/postgresql/.s.PGSQL.5432 /tmp/.s.PGSQL.5432\")\n",
    "os.environ['SNORKELDB'] = 'postgres:///lzirondi'\n",
    "\n",
    "#O import do SnorkelSession SEMPRE vai ter que estar após definir o BD nas variaveis de ambiente do SO, ao contrário ele defaulta para SQLite\n",
    "from snorkel import SnorkelSession\n",
    "session = SnorkelSession()"
   ]
  },
  {
   "cell_type": "markdown",
   "metadata": {},
   "source": [
    "## Gerando Sentenças"
   ]
  },
  {
   "cell_type": "code",
   "execution_count": 3,
   "metadata": {
    "tags": []
   },
   "outputs": [
    {
     "output_type": "stream",
     "name": "stdout",
     "text": [
      "\u001b[38;5;2m✔ Download and installation successful\u001b[0m\n",
      "You can now load the model via spacy.load('pt_core_news_sm')\n",
      "\u001b[38;5;2m✔ Linking successful\u001b[0m\n",
      "/home/lzirondi/anaconda3/envs/snorkel-extraction/lib/python3.6/site-packages/pt_core_news_sm\n",
      "-->\n",
      "/home/lzirondi/anaconda3/envs/snorkel-extraction/lib/python3.6/site-packages/spacy/data/pt\n",
      "You can now load the model via spacy.load('pt')\n",
      "Clearing existing...\n",
      "  0%|          | 0/5984 [00:00<?, ?it/s]Running UDF...\n",
      "100%|██████████| 5984/5984 [05:42<00:00, 17.48it/s]CPU times: user 5.31 s, sys: 1.08 s, total: 6.38 s\n",
      "Wall time: 5min 43s\n",
      "Documents: 5984\n",
      "Sentences: 8280\n",
      "\n"
     ]
    }
   ],
   "source": [
    "from snorkel.parser import TSVDocPreprocessor\n",
    "doc_preprocessor = TSVDocPreprocessor(corpusPath, max_docs=n_docs)\n",
    "\n",
    "from snorkel.parser.spacy_parser import Spacy\n",
    "from snorkel.parser import CorpusParser\n",
    "\n",
    "corpus_parser = CorpusParser(parser=Spacy(lang='pt'))\n",
    "\n",
    "%time corpus_parser.apply(doc_preprocessor, count=n_docs, parallelism=16)\n",
    "\n",
    "from snorkel.models import Document, Sentence\n",
    "\n",
    "print(\"Documents:\", session.query(Document).count())\n",
    "print(\"Sentences:\", session.query(Sentence).count())"
   ]
  },
  {
   "cell_type": "markdown",
   "metadata": {},
   "source": [
    "## Preparando os Dicionários"
   ]
  },
  {
   "cell_type": "code",
   "execution_count": 4,
   "metadata": {},
   "outputs": [
    {
     "output_type": "stream",
     "name": "stdout",
     "text": [
      "Arquivo Tweets Anotados.txt copiado com sucesso.\nArquivo Eventos.txt copiado com sucesso.\nArquivo Substâncias2-br-gazette.txt copiado com sucesso.\nArquivo Remédios2-br-gazette.txt copiado com sucesso.\nArquivo Substâncias-br-gazette.txt copiado com sucesso.\nArquivo Remédios-br-gazette.txt copiado com sucesso.\nArquivo EventosAdversos-gazette.txt copiado com sucesso.\nTsv do Corpus criado com sucesso.\nDicionário de Substâncias gerado com sucesso.\nDicionário de Eventos gerado com sucesso.\n"
     ]
    }
   ],
   "source": [
    "import Preprocessing as prep\n",
    "\n",
    "\n",
    "util = prep.Util(inPath, outPath, LIWCpath, True)\n",
    "\n",
    "\n",
    "substancias = util.subsToList()\n",
    "eventos = util.eventosToList()"
   ]
  },
  {
   "cell_type": "markdown",
   "metadata": {},
   "source": [
    "## Gerando a Classe de Candidatos"
   ]
  },
  {
   "cell_type": "code",
   "execution_count": 5,
   "metadata": {},
   "outputs": [],
   "source": [
    "from snorkel.models import candidate_subclass\n",
    "\n",
    "relation = candidate_subclass('Relation', ['Substância', 'Evento_Adverso'])"
   ]
  },
  {
   "source": [
    "## Extraindo Candidatos do Corpus"
   ],
   "cell_type": "markdown",
   "metadata": {}
  },
  {
   "cell_type": "code",
   "execution_count": 6,
   "metadata": {},
   "outputs": [],
   "source": [
    "from snorkel.candidates import Ngrams, CandidateExtractor\n",
    "from snorkel.matchers import DictionaryMatch\n",
    "\n",
    "ngrams = Ngrams(n_max=7)\n",
    "substancia_matcher = DictionaryMatch(d=substancias, longest_match_only=True, ignore_case=True)\n",
    "eventos_matcher = DictionaryMatch(d=eventos, longest_match_only=True, ignore_case=True)\n",
    "cand_extractor = CandidateExtractor(relation, [ngrams, ngrams], [substancia_matcher, eventos_matcher], symmetric_relations=True)\n",
    "\n",
    "from snorkel.models import Document\n",
    "\n",
    "docs = session.query(Document).order_by(Document.name).all()\n",
    "\n",
    "train_sents = set()\n",
    "dev_sents   = set()\n",
    "test_sents  = set()\n",
    "\n",
    "for i, doc in enumerate(docs):\n",
    "    for s in doc.sentences:\n",
    "        if i % 10 == 8:\n",
    "            dev_sents.add(s)\n",
    "        elif i % 10 == 9:\n",
    "            test_sents.add(s)\n",
    "        else:\n",
    "            train_sents.add(s)"
   ]
  },
  {
   "cell_type": "code",
   "execution_count": 8,
   "metadata": {},
   "outputs": [
    {
     "output_type": "stream",
     "name": "stdout",
     "text": [
      "Dev_sents 810\ntest_sents 811\ntrain_sents 6659\n"
     ]
    }
   ],
   "source": [
    "print(\"Dev_sents \" + str(len(dev_sents)))\n",
    "print(\"test_sents \" + str(len(test_sents)))\n",
    "print(\"train_sents \" + str(len(train_sents)))"
   ]
  },
  {
   "cell_type": "code",
   "execution_count": 9,
   "metadata": {},
   "outputs": [
    {
     "output_type": "stream",
     "name": "stderr",
     "text": [
      "  0%|          | 0/6659 [00:00<?, ?it/s]CPU times: user 3 µs, sys: 0 ns, total: 3 µs\n",
      "Wall time: 6.91 µs\n",
      "0\n",
      "Clearing existing...\n",
      "Running UDF...\n",
      "100%|██████████| 6659/6659 [01:39<00:00, 66.83it/s]\n",
      "  0%|          | 0/810 [00:00<?, ?it/s]Number of candidates: 5156\n",
      "1\n",
      "Clearing existing...\n",
      "Running UDF...\n",
      "100%|██████████| 810/810 [00:10<00:00, 75.52it/s]\n",
      "  0%|          | 0/811 [00:00<?, ?it/s]Number of candidates: 652\n",
      "2\n",
      "Clearing existing...\n",
      "Running UDF...\n",
      "100%|██████████| 811/811 [00:11<00:00, 72.00it/s]Number of candidates: 626\n",
      "\n"
     ]
    }
   ],
   "source": [
    "#\n",
    "\n",
    "%time\n",
    "for i, sents in enumerate([train_sents, dev_sents, test_sents]):\n",
    "    print(i)\n",
    "    cand_extractor.apply(sents, split=i, parallelism = 16)\n",
    "    print(\"Number of candidates:\", session.query(relation).filter(relation.split == i).count())"
   ]
  },
  {
   "cell_type": "code",
   "execution_count": 10,
   "metadata": {},
   "outputs": [
    {
     "output_type": "stream",
     "name": "stdout",
     "text": [
      "0  5156\n1  652\n2  626\nTotal 6434\nRelation(Span(\"b'dorflex'\", sentence=111812, chars=[12,18], words=[3,3]), Span(\"b'dor'\", sentence=111812, chars=[66,68], words=[13,13]))\nRelation(Span(\"b'ibuprofeno'\", sentence=111626, chars=[0,9], words=[0,0]), Span(\"b'dor'\", sentence=111626, chars=[16,18], words=[2,2]))\nRelation(Span(\"b'omeprazol'\", sentence=112482, chars=[34,42], words=[6,6]), Span(\"b'azia'\", sentence=112482, chars=[27,30], words=[4,4]))\n"
     ]
    },
    {
     "output_type": "execute_result",
     "data": {
      "text/plain": [
       "'\\n6k sentenças 10k candidatos\\n'"
      ]
     },
     "metadata": {},
     "execution_count": 10
    }
   ],
   "source": [
    "print('0  ' + str(session.query(relation).filter(relation.split == 0).count() ))\n",
    "print('1  ' + str(session.query(relation).filter(relation.split == 1).count() ))\n",
    "print('2  ' + str(session.query(relation).filter(relation.split == 2).count() ))\n",
    "\n",
    "print('Total ' + str(session.query(relation).filter(relation.split == 0).count() + session.query(relation).filter(relation.split == 1).count() + session.query(relation).filter(relation.split == 2).count()))\n",
    "\n",
    "candi0 = session.query(relation).filter(relation.split == 0).all()[0]\n",
    "candi1 = session.query(relation).filter(relation.split == 1).all()[1]\n",
    "candi2 = session.query(relation).filter(relation.split == 2).all()[2]\n",
    "\n",
    "print(candi0)\n",
    "print(candi1)\n",
    "print(candi2)\n",
    "'''\n",
    "6k sentenças 10k candidatos\n",
    "'''"
   ]
  },
  {
   "cell_type": "code",
   "execution_count": 30,
   "metadata": {
    "tags": [
     "outputPrepend"
    ]
   },
   "outputs": [
    {
     "output_type": "stream",
     "name": "stdout",
     "text": [
      "('(51924,relation,0)',), ('(51925,relation,0)',), ('(51926,relation,0)',), ('(51927,relation,0)',), ('(51928,relation,0)',), ('(51929,relation,0)',), ('(51930,relation,0)',), ('(51931,relation,0)',), ('(51932,relation,0)',), ('(51933,relation,0)',), ('(51934,relation,0)',), ('(51935,relation,0)',), ('(51936,relation,0)',), ('(51937,relation,0)',), ('(51938,relation,0)',), ('(51939,relation,0)',), ('(51940,relation,0)',), ('(51941,relation,0)',), ('(51942,relation,0)',), ('(51943,relation,0)',), ('(51944,relation,0)',), ('(51945,relation,0)',), ('(51946,relation,0)',), ('(51947,relation,0)',), ('(51948,relation,0)',), ('(51949,relation,0)',), ('(51950,relation,0)',), ('(51951,relation,0)',), ('(51952,relation,0)',), ('(51953,relation,0)',), ('(51954,relation,0)',), ('(51955,relation,0)',), ('(51956,relation,0)',), ('(51957,relation,0)',), ('(51958,relation,0)',), ('(51959,relation,0)',), ('(51960,relation,0)',), ('(51961,relation,0)',), ('(51962,relation,0)',), ('(51963,relation,0)',), ('(51964,relation,0)',), ('(51965,relation,0)',), ('(51966,relation,0)',), ('(51967,relation,0)',), ('(51968,relation,0)',), ('(51969,relation,0)',), ('(51970,relation,0)',), ('(51971,relation,0)',), ('(51972,relation,0)',), ('(51973,relation,0)',), ('(51974,relation,0)',), ('(51975,relation,0)',), ('(51976,relation,0)',), ('(51977,relation,0)',), ('(51978,relation,0)',), ('(51979,relation,0)',), ('(51980,relation,0)',), ('(51981,relation,0)',), ('(51982,relation,0)',), ('(51983,relation,0)',), ('(51984,relation,0)',), ('(51985,relation,0)',), ('(51986,relation,0)',), ('(51987,relation,0)',), ('(51988,relation,0)',), ('(51989,relation,0)',), ('(51990,relation,0)',), ('(51991,relation,0)',), ('(51992,relation,0)',), ('(51993,relation,0)',), ('(51994,relation,0)',), ('(51995,relation,0)',), ('(51996,relation,0)',), ('(51997,relation,0)',), ('(51998,relation,0)',), ('(51999,relation,0)',), ('(52000,relation,0)',), ('(52001,relation,0)',), ('(52002,relation,0)',), ('(52003,relation,0)',), ('(52004,relation,0)',), ('(52005,relation,0)',), ('(52006,relation,0)',), ('(52007,relation,0)',), ('(52008,relation,0)',), ('(52009,relation,0)',), ('(52010,relation,0)',), ('(52011,relation,0)',), ('(52012,relation,0)',), ('(52013,relation,0)',), ('(52014,relation,0)',), ('(52015,relation,0)',), ('(52016,relation,0)',), ('(52017,relation,0)',), ('(52018,relation,0)',), ('(52019,relation,0)',), ('(52020,relation,0)',), ('(52021,relation,0)',), ('(52022,relation,0)',), ('(52023,relation,0)',), ('(52024,relation,0)',), ('(52025,relation,0)',), ('(52026,relation,0)',), ('(52027,relation,0)',), ('(52028,relation,0)',), ('(52029,relation,0)',), ('(52030,relation,0)',), ('(52031,relation,0)',), ('(52032,relation,0)',), ('(52033,relation,0)',), ('(52034,relation,0)',), ('(52035,relation,0)',), ('(52036,relation,0)',), ('(52037,relation,0)',), ('(52038,relation,0)',), ('(52039,relation,0)',), ('(52040,relation,0)',), ('(52041,relation,0)',), ('(52042,relation,0)',), ('(52043,relation,0)',), ('(52044,relation,0)',), ('(52045,relation,0)',), ('(52046,relation,0)',), ('(52047,relation,0)',), ('(52048,relation,0)',), ('(52049,relation,0)',), ('(52050,relation,0)',), ('(52051,relation,0)',), ('(52052,relation,0)',), ('(52053,relation,0)',), ('(52054,relation,0)',), ('(52055,relation,0)',), ('(52056,relation,0)',), ('(52057,relation,0)',), ('(52058,relation,0)',), ('(52059,relation,0)',), ('(52060,relation,0)',), ('(52061,relation,0)',), ('(52062,relation,0)',), ('(52063,relation,0)',), ('(52064,relation,0)',), ('(52065,relation,0)',), ('(52066,relation,0)',), ('(52067,relation,0)',), ('(52068,relation,0)',), ('(52069,relation,0)',), ('(52070,relation,0)',), ('(52071,relation,0)',), ('(52072,relation,0)',), ('(52073,relation,0)',), ('(52074,relation,0)',), ('(52075,relation,0)',), ('(52076,relation,0)',), ('(52077,relation,0)',), ('(52078,relation,0)',), ('(52079,relation,0)',), ('(52080,relation,0)',), ('(52081,relation,0)',), ('(52082,relation,0)',), ('(52083,relation,0)',), ('(52084,relation,0)',), ('(52085,relation,0)',), ('(52086,relation,0)',), ('(52087,relation,0)',), ('(52088,relation,0)',), ('(52089,relation,0)',), ('(52090,relation,0)',), ('(52091,relation,0)',), ('(52092,relation,0)',), ('(52093,relation,0)',), ('(52094,relation,0)',), ('(52095,relation,0)',), ('(52096,relation,0)',), ('(52097,relation,0)',), ('(52098,relation,0)',), ('(52099,relation,0)',), ('(52100,relation,0)',), ('(52101,relation,0)',), ('(52102,relation,0)',), ('(52103,relation,0)',), ('(52104,relation,0)',), ('(52105,relation,0)',), ('(52106,relation,0)',), ('(52107,relation,0)',), ('(52108,relation,0)',), ('(52109,relation,0)',), ('(52110,relation,0)',), ('(52111,relation,0)',), ('(52112,relation,0)',), ('(52113,relation,0)',), ('(52114,relation,0)',), ('(52115,relation,0)',), ('(52116,relation,0)',), ('(52117,relation,0)',), ('(52118,relation,0)',), ('(52119,relation,0)',), ('(52120,relation,0)',), ('(52121,relation,0)',), ('(52122,relation,0)',), ('(52123,relation,0)',), ('(52124,relation,0)',), ('(52125,relation,0)',), ('(52126,relation,0)',), ('(52127,relation,0)',), ('(52128,relation,0)',), ('(52129,relation,0)',), ('(52130,relation,0)',), ('(52131,relation,0)',), ('(52132,relation,0)',), ('(52133,relation,0)',), ('(52134,relation,0)',), ('(52135,relation,0)',), ('(52136,relation,0)',), ('(52137,relation,0)',), ('(52138,relation,0)',), ('(52139,relation,0)',), ('(52140,relation,0)',), ('(52141,relation,0)',), ('(52142,relation,0)',), ('(52143,relation,0)',), ('(52144,relation,0)',), ('(52145,relation,0)',), ('(52146,relation,0)',), ('(52147,relation,0)',), ('(52148,relation,0)',), ('(52149,relation,0)',), ('(52150,relation,0)',), ('(52151,relation,0)',), ('(52152,relation,0)',), ('(52153,relation,0)',), ('(52154,relation,0)',), ('(52155,relation,0)',), ('(52156,relation,0)',), ('(52157,relation,0)',), ('(52158,relation,0)',), ('(52159,relation,0)',), ('(52160,relation,0)',), ('(52161,relation,0)',), ('(52162,relation,0)',), ('(52163,relation,0)',), ('(52164,relation,0)',), ('(52165,relation,0)',), ('(52166,relation,0)',), ('(52167,relation,0)',), ('(52168,relation,0)',), ('(52169,relation,0)',), ('(52170,relation,0)',), ('(52171,relation,0)',), ('(52172,relation,0)',), ('(52173,relation,0)',), ('(52174,relation,0)',), ('(52175,relation,0)',), ('(52176,relation,0)',), ('(52177,relation,0)',), ('(52178,relation,0)',), ('(52179,relation,0)',), ('(52180,relation,0)',), ('(52181,relation,0)',), ('(52182,relation,0)',), ('(52183,relation,0)',), ('(52184,relation,0)',), ('(52185,relation,0)',), ('(52186,relation,0)',), ('(52187,relation,0)',), ('(52188,relation,0)',), ('(52189,relation,0)',), ('(52190,relation,0)',), ('(52191,relation,0)',), ('(52192,relation,0)',), ('(52193,relation,0)',), ('(52194,relation,0)',), ('(52195,relation,0)',), ('(52196,relation,0)',), ('(52197,relation,0)',), ('(52198,relation,0)',), ('(52199,relation,0)',), ('(52200,relation,0)',), ('(52201,relation,0)',), ('(52202,relation,0)',), ('(52203,relation,0)',), ('(52204,relation,0)',), ('(52205,relation,0)',), ('(52206,relation,0)',), ('(52207,relation,0)',), ('(52208,relation,0)',), ('(52209,relation,0)',), ('(52210,relation,0)',), ('(52211,relation,0)',), ('(52212,relation,0)',), ('(52213,relation,0)',), ('(52214,relation,0)',), ('(52215,relation,0)',), ('(52216,relation,0)',), ('(52217,relation,0)',), ('(52218,relation,0)',), ('(52219,relation,0)',), ('(52220,relation,0)',), ('(52221,relation,0)',), ('(52222,relation,0)',), ('(52223,relation,0)',), ('(52224,relation,0)',), ('(52225,relation,0)',), ('(52226,relation,0)',), ('(52227,relation,0)',), ('(52228,relation,0)',), ('(52229,relation,0)',), ('(52230,relation,0)',), ('(52231,relation,0)',), ('(52232,relation,0)',), ('(52233,relation,0)',), ('(52234,relation,0)',), ('(52235,relation,0)',), ('(52236,relation,0)',), ('(52237,relation,0)',), ('(52238,relation,0)',), ('(52239,relation,0)',), ('(52240,relation,0)',), ('(52241,relation,0)',), ('(52242,relation,0)',), ('(52243,relation,0)',), ('(52244,relation,0)',), ('(52245,relation,0)',), ('(52246,relation,0)',), ('(52247,relation,0)',), ('(52248,relation,0)',), ('(52249,relation,0)',), ('(52250,relation,0)',), ('(52251,relation,0)',), ('(52252,relation,0)',), ('(52253,relation,0)',), ('(52254,relation,0)',), ('(52255,relation,0)',), ('(52256,relation,0)',), ('(52257,relation,0)',), ('(52258,relation,0)',), ('(52259,relation,0)',), ('(52260,relation,0)',), ('(52261,relation,0)',), ('(52262,relation,0)',), ('(52263,relation,0)',), ('(52264,relation,0)',), ('(52265,relation,0)',), ('(52266,relation,0)',), ('(52267,relation,0)',), ('(52268,relation,0)',), ('(52269,relation,0)',), ('(52270,relation,0)',), ('(52271,relation,0)',), ('(52272,relation,0)',), ('(52273,relation,0)',), ('(52274,relation,0)',), ('(52275,relation,0)',), ('(52276,relation,0)',), ('(52277,relation,0)',), ('(52278,relation,0)',), ('(52279,relation,0)',), ('(52280,relation,0)',), ('(52281,relation,0)',), ('(52282,relation,0)',), ('(52283,relation,0)',), ('(52284,relation,0)',), ('(52285,relation,0)',), ('(52286,relation,0)',), ('(52287,relation,0)',), ('(52288,relation,0)',), ('(52289,relation,0)',), ('(52290,relation,0)',), ('(52291,relation,0)',), ('(52292,relation,0)',), ('(52293,relation,0)',), ('(52294,relation,0)',), ('(52295,relation,0)',), ('(52296,relation,0)',), ('(52297,relation,0)',), ('(52298,relation,0)',), ('(52299,relation,0)',), ('(52300,relation,0)',), ('(52301,relation,0)',), ('(52302,relation,0)',), ('(52303,relation,0)',), ('(52304,relation,0)',), ('(52305,relation,0)',), ('(52306,relation,0)',), ('(52307,relation,0)',), ('(52308,relation,0)',), ('(52309,relation,0)',), ('(52310,relation,0)',), ('(52311,relation,0)',), ('(52312,relation,0)',), ('(52313,relation,0)',), ('(52314,relation,0)',), ('(52315,relation,0)',), ('(52316,relation,0)',), ('(52317,relation,0)',), ('(52318,relation,0)',), ('(52319,relation,0)',), ('(52320,relation,0)',), ('(52321,relation,0)',), ('(52322,relation,0)',), ('(52323,relation,0)',), ('(52324,relation,0)',), ('(52325,relation,0)',), ('(52326,relation,0)',), ('(52327,relation,0)',), ('(52328,relation,0)',), ('(52329,relation,0)',), ('(52330,relation,0)',), ('(52331,relation,0)',), ('(52332,relation,0)',), ('(52333,relation,0)',), ('(52334,relation,0)',), ('(52335,relation,0)',), ('(52336,relation,0)',), ('(52337,relation,0)',), ('(52338,relation,0)',), ('(52339,relation,0)',), ('(52340,relation,0)',), ('(52341,relation,0)',), ('(52342,relation,0)',), ('(52343,relation,0)',), ('(52344,relation,0)',), ('(52345,relation,0)',), ('(52346,relation,0)',), ('(52347,relation,0)',), ('(52348,relation,0)',), ('(52349,relation,0)',), ('(52350,relation,0)',), ('(52351,relation,0)',), ('(52352,relation,0)',), ('(52353,relation,0)',), ('(52354,relation,0)',), ('(52355,relation,0)',), ('(52356,relation,0)',), ('(52357,relation,0)',), ('(52358,relation,0)',), ('(52359,relation,0)',), ('(52360,relation,0)',), ('(52361,relation,0)',), ('(52362,relation,0)',), ('(52363,relation,0)',), ('(52364,relation,0)',), ('(52365,relation,0)',), ('(52366,relation,0)',), ('(52367,relation,0)',), ('(52368,relation,0)',), ('(52369,relation,0)',), ('(52370,relation,0)',), ('(52371,relation,0)',), ('(52372,relation,0)',), ('(52373,relation,0)',), ('(52374,relation,0)',), ('(52375,relation,0)',), ('(52376,relation,0)',), ('(52377,relation,0)',), ('(52378,relation,0)',), ('(52379,relation,0)',), ('(52380,relation,0)',), ('(52381,relation,0)',), ('(52382,relation,0)',), ('(52383,relation,0)',), ('(52384,relation,0)',), ('(52385,relation,0)',), ('(52386,relation,0)',), ('(52387,relation,0)',), ('(52388,relation,0)',), ('(52389,relation,0)',), ('(52390,relation,0)',), ('(52391,relation,0)',), ('(52392,relation,0)',), ('(52393,relation,0)',), ('(52394,relation,0)',), ('(52395,relation,0)',), ('(52396,relation,0)',), ('(52397,relation,0)',), ('(52398,relation,0)',), ('(52399,relation,0)',), ('(52400,relation,0)',), ('(52401,relation,0)',), ('(52402,relation,0)',), ('(52403,relation,0)',), ('(52404,relation,0)',), ('(52405,relation,0)',), ('(52406,relation,0)',), ('(52407,relation,0)',), ('(52408,relation,0)',), ('(52409,relation,0)',), ('(52410,relation,0)',), ('(52411,relation,0)',), ('(52412,relation,0)',), ('(52413,relation,0)',), ('(52414,relation,0)',), ('(52415,relation,0)',), ('(52416,relation,0)',), ('(52417,relation,0)',), ('(52418,relation,0)',), ('(52419,relation,0)',), ('(52420,relation,0)',), ('(52421,relation,0)',), ('(52422,relation,0)',), ('(52423,relation,0)',), ('(52424,relation,0)',), ('(52425,relation,0)',), ('(52426,relation,0)',), ('(52427,relation,0)',), ('(52428,relation,0)',), ('(52429,relation,0)',), ('(52430,relation,0)',), ('(52431,relation,0)',), ('(52432,relation,0)',), ('(52433,relation,0)',), ('(52434,relation,0)',), ('(52435,relation,0)',), ('(52436,relation,0)',), ('(52437,relation,0)',), ('(52438,relation,0)',), ('(52439,relation,0)',), ('(52440,relation,0)',), ('(52441,relation,0)',), ('(52442,relation,0)',), ('(52443,relation,0)',), ('(52444,relation,0)',), ('(52445,relation,0)',), ('(52446,relation,0)',), ('(52447,relation,0)',), ('(52448,relation,0)',), ('(52449,relation,0)',), ('(52450,relation,0)',), ('(52451,relation,0)',), ('(52452,relation,0)',), ('(52453,relation,0)',), ('(52454,relation,0)',), ('(52455,relation,0)',), ('(52456,relation,0)',), ('(52457,relation,0)',), ('(52458,relation,0)',), ('(52459,relation,0)',), ('(52460,relation,0)',), ('(52461,relation,0)',), ('(52462,relation,0)',), ('(52463,relation,0)',), ('(52464,relation,0)',), ('(52465,relation,0)',), ('(52466,relation,0)',), ('(52467,relation,0)',), ('(52468,relation,0)',), ('(52469,relation,0)',), ('(52470,relation,0)',), ('(52471,relation,0)',), ('(52472,relation,0)',), ('(52473,relation,0)',), ('(52474,relation,0)',), ('(52475,relation,0)',), ('(52476,relation,0)',), ('(52477,relation,0)',), ('(52478,relation,0)',), ('(52479,relation,0)',), ('(52480,relation,0)',), ('(52481,relation,0)',), ('(52482,relation,0)',), ('(52483,relation,0)',), ('(52484,relation,0)',), ('(52485,relation,0)',), ('(52486,relation,0)',), ('(52487,relation,0)',), ('(52488,relation,0)',), ('(52489,relation,0)',), ('(52490,relation,0)',), ('(52491,relation,0)',), ('(52492,relation,0)',), ('(52493,relation,0)',), ('(52494,relation,0)',), ('(52495,relation,0)',), ('(52496,relation,0)',), ('(52497,relation,0)',), ('(52498,relation,0)',), ('(52499,relation,0)',), ('(52500,relation,0)',), ('(52501,relation,0)',), ('(52502,relation,0)',), ('(52503,relation,0)',), ('(52504,relation,0)',), ('(52505,relation,0)',), ('(52506,relation,0)',), ('(52507,relation,0)',), ('(52508,relation,0)',), ('(52509,relation,0)',), ('(52510,relation,0)',), ('(52511,relation,0)',), ('(52512,relation,0)',), ('(52513,relation,0)',), ('(52514,relation,0)',), ('(52515,relation,0)',), ('(52516,relation,0)',), ('(52517,relation,0)',), ('(52518,relation,0)',), ('(52519,relation,0)',), ('(52520,relation,0)',), ('(52521,relation,0)',), ('(52522,relation,0)',), ('(52523,relation,0)',), ('(52524,relation,0)',), ('(52525,relation,0)',), ('(52526,relation,0)',), ('(52527,relation,0)',), ('(52528,relation,0)',), ('(52529,relation,0)',), ('(52530,relation,0)',), ('(52531,relation,0)',), ('(52532,relation,0)',), ('(52533,relation,0)',), ('(52534,relation,0)',), ('(52535,relation,0)',), ('(52536,relation,0)',), ('(52537,relation,0)',), ('(52538,relation,0)',), ('(52539,relation,0)',), ('(52540,relation,0)',), ('(52541,relation,0)',), ('(52542,relation,0)',), ('(52543,relation,0)',), ('(52544,relation,0)',), ('(52545,relation,0)',), ('(52546,relation,0)',), ('(52547,relation,0)',), ('(52548,relation,0)',), ('(52549,relation,0)',), ('(52550,relation,0)',), ('(52551,relation,0)',), ('(52552,relation,0)',), ('(52553,relation,0)',), ('(52554,relation,0)',), ('(52555,relation,0)',), ('(52556,relation,0)',), ('(52557,relation,0)',), ('(52558,relation,0)',), ('(52559,relation,0)',), ('(52560,relation,0)',), ('(52561,relation,0)',), ('(52562,relation,0)',), ('(52563,relation,0)',), ('(52564,relation,0)',), ('(52565,relation,0)',), ('(52566,relation,0)',), ('(52567,relation,0)',), ('(52568,relation,0)',), ('(52569,relation,0)',), ('(52570,relation,0)',), ('(52571,relation,0)',), ('(52572,relation,0)',), ('(52573,relation,0)',), ('(52574,relation,0)',), ('(52575,relation,0)',), ('(52576,relation,0)',), ('(52577,relation,0)',), ('(52578,relation,0)',), ('(52579,relation,0)',), ('(52580,relation,0)',), ('(52581,relation,0)',), ('(52582,relation,0)',), ('(52583,relation,0)',), ('(52584,relation,0)',), ('(52585,relation,0)',), ('(52586,relation,0)',), ('(52587,relation,0)',), ('(52588,relation,0)',), ('(52589,relation,0)',), ('(52590,relation,0)',), ('(52591,relation,0)',), ('(52592,relation,0)',), ('(52593,relation,0)',), ('(52594,relation,0)',), ('(52595,relation,0)',), ('(52596,relation,0)',), ('(52597,relation,0)',), ('(52598,relation,0)',), ('(52599,relation,0)',), ('(52600,relation,0)',), ('(52601,relation,0)',), ('(52602,relation,0)',), ('(52603,relation,0)',), ('(52604,relation,0)',), ('(52605,relation,0)',), ('(52606,relation,0)',), ('(52607,relation,0)',), ('(52608,relation,0)',), ('(52609,relation,0)',), ('(52610,relation,0)',), ('(52611,relation,0)',), ('(52612,relation,0)',), ('(52613,relation,0)',), ('(52614,relation,0)',), ('(52615,relation,0)',), ('(52616,relation,0)',), ('(52617,relation,0)',), ('(52618,relation,0)',), ('(52619,relation,0)',), ('(52620,relation,0)',), ('(52621,relation,0)',), ('(52622,relation,0)',), ('(52623,relation,0)',), ('(52624,relation,0)',), ('(52625,relation,0)',), ('(52626,relation,0)',), ('(52627,relation,0)',), ('(52628,relation,0)',), ('(52629,relation,0)',), ('(52630,relation,0)',), ('(52631,relation,0)',), ('(52632,relation,0)',), ('(52633,relation,0)',), ('(52634,relation,0)',), ('(52635,relation,0)',), ('(52636,relation,0)',), ('(52637,relation,0)',), ('(52638,relation,0)',), ('(52639,relation,0)',), ('(52640,relation,0)',), ('(52641,relation,0)',), ('(52642,relation,0)',), ('(52643,relation,0)',), ('(52644,relation,0)',), ('(52645,relation,0)',), ('(52646,relation,0)',), ('(52647,relation,0)',), ('(52648,relation,0)',), ('(52649,relation,0)',), ('(52650,relation,0)',), ('(52651,relation,0)',), ('(52652,relation,0)',), ('(52653,relation,0)',), ('(52654,relation,0)',), ('(52655,relation,0)',), ('(52656,relation,0)',), ('(52657,relation,0)',), ('(52658,relation,0)',), ('(52659,relation,0)',), ('(52660,relation,0)',), ('(52661,relation,0)',), ('(52662,relation,0)',), ('(52663,relation,0)',), ('(52664,relation,0)',), ('(52665,relation,0)',), ('(52666,relation,0)',), ('(52667,relation,0)',), ('(52668,relation,0)',), ('(52669,relation,0)',), ('(52670,relation,0)',), ('(52671,relation,0)',), ('(52672,relation,0)',), ('(52673,relation,0)',), ('(52674,relation,0)',), ('(52675,relation,0)',), ('(52676,relation,0)',), ('(52677,relation,0)',), ('(52678,relation,0)',), ('(52679,relation,0)',), ('(52680,relation,0)',), ('(52681,relation,0)',), ('(52682,relation,0)',), ('(52683,relation,0)',), ('(52684,relation,0)',), ('(52685,relation,0)',), ('(52686,relation,0)',), ('(52687,relation,0)',), ('(52688,relation,0)',), ('(52689,relation,0)',), ('(52690,relation,0)',), ('(52691,relation,0)',), ('(52692,relation,0)',), ('(52693,relation,0)',), ('(52694,relation,0)',), ('(52695,relation,0)',), ('(52696,relation,0)',), ('(52697,relation,0)',), ('(52698,relation,0)',), ('(52699,relation,0)',), ('(52700,relation,0)',), ('(52701,relation,0)',), ('(52702,relation,0)',), ('(52703,relation,0)',), ('(52704,relation,0)',), ('(52705,relation,0)',), ('(52706,relation,0)',), ('(52707,relation,0)',), ('(52708,relation,0)',), ('(52709,relation,0)',), ('(52710,relation,0)',), ('(52711,relation,0)',), ('(52712,relation,0)',), ('(52713,relation,0)',), ('(52714,relation,0)',), ('(52715,relation,0)',), ('(52716,relation,0)',), ('(52717,relation,0)',), ('(52718,relation,0)',), ('(52719,relation,0)',), ('(52720,relation,0)',), ('(52721,relation,0)',), ('(52722,relation,0)',), ('(52723,relation,0)',)]\n"
     ]
    }
   ],
   "source": [
    "#print(session.query(relation).filter(relation.split == 0).first())\n",
    "\n",
    "print(session.query('Candidate').filter(relation.split == 0).all())"
   ]
  },
  {
   "cell_type": "markdown",
   "metadata": {},
   "source": [
    "# Execução Incompleta"
   ]
  },
  {
   "cell_type": "markdown",
   "metadata": {},
   "source": [
    "## Gerando um .tsv dos candidatos"
   ]
  },
  {
   "cell_type": "code",
   "execution_count": null,
   "metadata": {},
   "outputs": [],
   "source": [
    "cands = session.query(relation).filter(relation.split == 0).all()\n",
    "\n",
    "f = open('/home/lzirondi/Github/snorkel/Scripts/Datasets/Processed/Candidatos.tsv', 'w', encoding='UTF-8')\n",
    "f.write('Sentença\\t Span_1 \\t Span_2 \\n')\n",
    "\n",
    "for candidate in cands:   \n",
    "    \n",
    "    parent = candidate.get_parent()\n",
    "    parent = parent._asdict()\n",
    "    parent = parent.get('text')\n",
    "    parent = parent.replace('\\n', '')\n",
    "    \n",
    "    \n",
    "    contexts = candidate.get_contexts()\n",
    "    span_list = [contexts[0].get_span(), contexts[1].get_span()]   \n",
    "    \n",
    "    \n",
    "    f.write(parent + '\\t' + span_list[0] + '\\t' + span_list[1] + '\\n' )\n",
    "    \n",
    "    \n",
    "f.close()"
   ]
  },
  {
   "cell_type": "markdown",
   "metadata": {},
   "source": [
    "## Random Stuff"
   ]
  },
  {
   "cell_type": "code",
   "execution_count": null,
   "metadata": {},
   "outputs": [],
   "source": [
    "#par = candi.get_parent()\n",
    "#dict1 = par._asdict()\n",
    "\n",
    "#contexts = candi.get_contexts()\n",
    "\n",
    "#spans = [contexts[0], contexts[1]]\n",
    "\n",
    "#a = contexts[0]\n",
    "\n",
    "#for candidate in cands:\n",
    "#    print(candidate.get_contexts()[0].get_span())\n",
    "#print(a.get_span())\n",
    "\n",
    "\n",
    "#object_methods = [method_name for method_name in dir(a) if callable(getattr(a, method_name))]\n",
    "\n",
    "#print(object_methods)\n",
    "#cands = session.query(causas).filter(causas.split == 0).all()\n",
    "\n",
    "#cands2 = session.query(causas).filter(causas.split==0).all()\n",
    "relation = candidate_subclass('Causa', ['Substância', 'Evento_Adverso'])\n",
    "\n",
    "print(session.query(causas).filter(causas.split==0).all())\n",
    "\n",
    "#print(cands)\n",
    "#print(cands[527])\n",
    "\n",
    "#print(cands2[527])\n",
    "\n",
    "\n",
    "from snorkel.lf_helpers import (\n",
    "    get_left_tokens, get_right_tokens, get_between_tokens,\n",
    "    get_text_between, get_tagged_text,\n",
    ")\n",
    "\n"
   ]
  },
  {
   "cell_type": "code",
   "execution_count": null,
   "metadata": {},
   "outputs": [],
   "source": [
    "#print(type(parent))\n",
    "#print(type(contexts_list[0]))\n",
    "#print(type(contexts_list[0]))\n",
    "#print(type(cands[0]))\n",
    "    \n",
    "\n",
    "#print(cands[0].get_cids())\n",
    "#print(type(cands[0].get_contexts()))\n",
    "#print(cands[0].get_parent())\n",
    "\n",
    "#object_methods = [method_name for method_name in dir(cands[0]) if callable(getattr(cands[0], method_name))]\n",
    "\n",
    "#print(object_methods)\n",
    "\n",
    "#a = cands[0].get_contexts()\n",
    "\n",
    "#object_methods = [method_name for method_name in dir(contexts[0]) if callable(getattr(contexts[0], method_name))]\n",
    "\n",
    "#print(object_methods)\n",
    "\n",
    "#print(type(a))\n",
    "\n",
    "#f = open('/home/lzirondi/Github/snorkel/Scripts/Datasets/Processed/Candidatos.txt', 'w', encoding='UTF-8')\n",
    "#for span in cands:\n",
    "#    print(str(span))\n"
   ]
  },
  {
   "cell_type": "code",
   "execution_count": null,
   "metadata": {},
   "outputs": [],
   "source": [
    "def liwcInCandidate(c):\n",
    "    return 1 if se.contains(c.get_parent().words) else 0\n",
    "\n",
    "    \n",
    "\n",
    "for c in session.query(relation).filter(relation.split == 1).all():\n",
    "    if liwcInCandidate(c) != 0:\n",
    "        labeled.append(c)\n",
    "print(\"Number labeled:\", len(labeled))"
   ]
  },
  {
   "cell_type": "code",
   "execution_count": null,
   "metadata": {},
   "outputs": [],
   "source": [
    "from snorkel.viewer import SentenceNgramViewer\n",
    "\n",
    "\n",
    "#SentenceNgramViewer(labeled, session)\n",
    "\n",
    "\n",
    "cands = session.query(relation).filter(relation.split == 0).all()\n",
    "\n",
    "print(cands[0])\n",
    "SentenceNgramViewer(cands, session)\n",
    "\n",
    "#c = cands[0]\n",
    "\n",
    "#print(c.get_parent().words)"
   ]
  }
 ],
 "metadata": {
  "kernelspec": {
   "display_name": "snorkel-extraction",
   "language": "python",
   "name": "snorkel-extraction"
  },
  "language_info": {
   "codemirror_mode": {
    "name": "ipython",
    "version": 3
   },
   "file_extension": ".py",
   "mimetype": "text/x-python",
   "name": "python",
   "nbconvert_exporter": "python",
   "pygments_lexer": "ipython3",
   "version": "3.6.13-final"
  }
 },
 "nbformat": 4,
 "nbformat_minor": 4
}